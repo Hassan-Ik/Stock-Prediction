{
  "nbformat": 4,
  "nbformat_minor": 0,
  "metadata": {
    "colab": {
      "name": "Untitled",
      "provenance": [],
      "collapsed_sections": []
    },
    "kernelspec": {
      "name": "python3",
      "display_name": "Python 3"
    }
  },
  "cells": [
    {
      "cell_type": "code",
      "metadata": {
        "id": "QDTCK2OKN5op",
        "colab_type": "code",
        "colab": {}
      },
      "source": [
        "# Description: Using this program i am going to predict the stock price of a corporation using the past 60 days stock [price] using \n",
        "#  an artificial neural network called Long Short Term Memory(LSTM) "
      ],
      "execution_count": null,
      "outputs": []
    },
    {
      "cell_type": "code",
      "metadata": {
        "id": "8VkSyhFMOPoY",
        "colab_type": "code",
        "colab": {
          "base_uri": "https://localhost:8080/",
          "height": 72
        },
        "outputId": "e618470a-63dd-4bf1-fb9c-5acb90decffe"
      },
      "source": [
        "# Import the libraries\n",
        "import math\n",
        "import pandas_datareader as web\n",
        "import numpy as np\n",
        "import pandas as pd\n",
        "from sklearn.preprocessing import MinMaxScaler\n",
        "from keras.models import Sequential\n",
        "from keras.layers import Dense, LSTM\n",
        "import matplotlib.pyplot as plt\n",
        "plt.style.use('fivethirtyeight')\n"
      ],
      "execution_count": null,
      "outputs": [
        {
          "output_type": "stream",
          "text": [
            "/usr/local/lib/python3.6/dist-packages/pandas_datareader/compat/__init__.py:7: FutureWarning: pandas.util.testing is deprecated. Use the functions in the public API at pandas.testing instead.\n",
            "  from pandas.util.testing import assert_frame_equal\n"
          ],
          "name": "stderr"
        }
      ]
    },
    {
      "cell_type": "code",
      "metadata": {
        "id": "HyXqNF3XOtmq",
        "colab_type": "code",
        "colab": {
          "base_uri": "https://localhost:8080/",
          "height": 233
        },
        "outputId": "5ee1136b-a184-4bb8-9b12-f75f0434609d"
      },
      "source": [
        "# Get the stock quote \n",
        "df = web.DataReader('TSLA', data_source = 'yahoo', start = '2012-01-01', end='2020-08-20')\n",
        "# Show the data\n",
        "df.head()"
      ],
      "execution_count": null,
      "outputs": [
        {
          "output_type": "execute_result",
          "data": {
            "text/html": [
              "<div>\n",
              "<style scoped>\n",
              "    .dataframe tbody tr th:only-of-type {\n",
              "        vertical-align: middle;\n",
              "    }\n",
              "\n",
              "    .dataframe tbody tr th {\n",
              "        vertical-align: top;\n",
              "    }\n",
              "\n",
              "    .dataframe thead th {\n",
              "        text-align: right;\n",
              "    }\n",
              "</style>\n",
              "<table border=\"1\" class=\"dataframe\">\n",
              "  <thead>\n",
              "    <tr style=\"text-align: right;\">\n",
              "      <th></th>\n",
              "      <th>High</th>\n",
              "      <th>Low</th>\n",
              "      <th>Open</th>\n",
              "      <th>Close</th>\n",
              "      <th>Volume</th>\n",
              "      <th>Adj Close</th>\n",
              "    </tr>\n",
              "    <tr>\n",
              "      <th>Date</th>\n",
              "      <th></th>\n",
              "      <th></th>\n",
              "      <th></th>\n",
              "      <th></th>\n",
              "      <th></th>\n",
              "      <th></th>\n",
              "    </tr>\n",
              "  </thead>\n",
              "  <tbody>\n",
              "    <tr>\n",
              "      <th>2012-01-03</th>\n",
              "      <td>29.500000</td>\n",
              "      <td>27.650000</td>\n",
              "      <td>28.940001</td>\n",
              "      <td>28.080000</td>\n",
              "      <td>928100</td>\n",
              "      <td>28.080000</td>\n",
              "    </tr>\n",
              "    <tr>\n",
              "      <th>2012-01-04</th>\n",
              "      <td>28.670000</td>\n",
              "      <td>27.500000</td>\n",
              "      <td>28.209999</td>\n",
              "      <td>27.709999</td>\n",
              "      <td>630100</td>\n",
              "      <td>27.709999</td>\n",
              "    </tr>\n",
              "    <tr>\n",
              "      <th>2012-01-05</th>\n",
              "      <td>27.930000</td>\n",
              "      <td>26.850000</td>\n",
              "      <td>27.760000</td>\n",
              "      <td>27.120001</td>\n",
              "      <td>1005500</td>\n",
              "      <td>27.120001</td>\n",
              "    </tr>\n",
              "    <tr>\n",
              "      <th>2012-01-06</th>\n",
              "      <td>27.790001</td>\n",
              "      <td>26.410000</td>\n",
              "      <td>27.200001</td>\n",
              "      <td>26.910000</td>\n",
              "      <td>986300</td>\n",
              "      <td>26.910000</td>\n",
              "    </tr>\n",
              "    <tr>\n",
              "      <th>2012-01-09</th>\n",
              "      <td>27.490000</td>\n",
              "      <td>26.120001</td>\n",
              "      <td>27.000000</td>\n",
              "      <td>27.250000</td>\n",
              "      <td>897000</td>\n",
              "      <td>27.250000</td>\n",
              "    </tr>\n",
              "  </tbody>\n",
              "</table>\n",
              "</div>"
            ],
            "text/plain": [
              "                 High        Low       Open      Close   Volume  Adj Close\n",
              "Date                                                                      \n",
              "2012-01-03  29.500000  27.650000  28.940001  28.080000   928100  28.080000\n",
              "2012-01-04  28.670000  27.500000  28.209999  27.709999   630100  27.709999\n",
              "2012-01-05  27.930000  26.850000  27.760000  27.120001  1005500  27.120001\n",
              "2012-01-06  27.790001  26.410000  27.200001  26.910000   986300  26.910000\n",
              "2012-01-09  27.490000  26.120001  27.000000  27.250000   897000  27.250000"
            ]
          },
          "metadata": {
            "tags": []
          },
          "execution_count": 99
        }
      ]
    },
    {
      "cell_type": "code",
      "metadata": {
        "id": "lAQvevQnjUu_",
        "colab_type": "code",
        "colab": {}
      },
      "source": [
        "# In The Dataset\n",
        "# High column : The high price the stock reached in that particular day\n",
        "# Low column : The low price or stock rate it reached in that particular day\n",
        "# Open column : The price at which the market open on that particular day\n",
        "# Close column : The price the stock market closed on that particular day\n",
        "# Volume : The amount of shareholders  "
      ],
      "execution_count": null,
      "outputs": []
    },
    {
      "cell_type": "code",
      "metadata": {
        "id": "qMSswp95PgZ1",
        "colab_type": "code",
        "colab": {
          "base_uri": "https://localhost:8080/",
          "height": 35
        },
        "outputId": "f91d86cb-01e4-44dd-864a-8543bb5ea0fb"
      },
      "source": [
        "# Get the number of rows and columns in the dataset \n",
        "df.shape "
      ],
      "execution_count": null,
      "outputs": [
        {
          "output_type": "execute_result",
          "data": {
            "text/plain": [
              "(2173, 6)"
            ]
          },
          "metadata": {
            "tags": []
          },
          "execution_count": 77
        }
      ]
    },
    {
      "cell_type": "code",
      "metadata": {
        "id": "QJO-fdkNPmVF",
        "colab_type": "code",
        "colab": {
          "base_uri": "https://localhost:8080/",
          "height": 500
        },
        "outputId": "fbdb4109-fee1-477b-9449-36d9eec2d5b6"
      },
      "source": [
        "#VIsualize the closing price history\n",
        "plt.figure(figsize=(16,7))\n",
        "plt.title('Close Price History')\n",
        "plt.plot(df['Close'])\n",
        "plt.xlabel('Data', fontsize=18)\n",
        "plt.ylabel('Close Price USD($)', fontsize=18)\n",
        "plt.show()"
      ],
      "execution_count": null,
      "outputs": [
        {
          "output_type": "display_data",
          "data": {
            "image/png": "[encoded data removed]",
            "text/plain": [
              "<Figure size 1152x504 with 1 Axes>"
            ]
          },
          "metadata": {
            "tags": []
          }
        }
      ]
    },
    {
      "cell_type": "code",
      "metadata": {
        "id": "YJMvPb7zQG5j",
        "colab_type": "code",
        "colab": {}
      },
      "source": [
        "# Create a new dataset with only the 'Close' column\n",
        "data = df.filter(['Close'])\n",
        "# COnvert dataframe to a numpy array\n",
        "dataset = data.values\n",
        "#Get the number of rows to train our model on\n",
        "\n",
        "training_data_len = math.ceil(len(dataset) * .8)\n"
      ],
      "execution_count": null,
      "outputs": []
    },
    {
      "cell_type": "code",
      "metadata": {
        "id": "GFm2XWkAQ9Cn",
        "colab_type": "code",
        "colab": {
          "base_uri": "https://localhost:8080/",
          "height": 35
        },
        "outputId": "90a9e9c9-5d4a-404d-f3b5-61d041c353e1"
      },
      "source": [
        "training_data_len"
      ],
      "execution_count": null,
      "outputs": [
        {
          "output_type": "execute_result",
          "data": {
            "text/plain": [
              "1739"
            ]
          },
          "metadata": {
            "tags": []
          },
          "execution_count": 80
        }
      ]
    },
    {
      "cell_type": "code",
      "metadata": {
        "id": "5BRS9RBfQ-v0",
        "colab_type": "code",
        "colab": {
          "base_uri": "https://localhost:8080/",
          "height": 235
        },
        "outputId": "7188a366-1151-4d38-91f7-abb4444708da"
      },
      "source": [
        "#Scale the data \n",
        "scaler = MinMaxScaler(feature_range=(0, 1))\n",
        "scaled_data = scaler.fit_transform(dataset)\n",
        "\n",
        "scaled_data "
      ],
      "execution_count": 1,
      "outputs": [
        {
          "output_type": "error",
          "ename": "NameError",
          "evalue": "ignored",
          "traceback": [
            "\u001b[0;31m---------------------------------------------------------------------------\u001b[0m",
            "\u001b[0;31mNameError\u001b[0m                                 Traceback (most recent call last)",
            "\u001b[0;32m<ipython-input-1-4d1edaa22c34>\u001b[0m in \u001b[0;36m<module>\u001b[0;34m()\u001b[0m\n\u001b[1;32m      1\u001b[0m \u001b[0;31m#Scale the data\u001b[0m\u001b[0;34m\u001b[0m\u001b[0;34m\u001b[0m\u001b[0;34m\u001b[0m\u001b[0m\n\u001b[0;32m----> 2\u001b[0;31m \u001b[0mscaler\u001b[0m \u001b[0;34m=\u001b[0m \u001b[0mMinMaxScaler\u001b[0m\u001b[0;34m(\u001b[0m\u001b[0mfeature_range\u001b[0m\u001b[0;34m=\u001b[0m\u001b[0;34m(\u001b[0m\u001b[0;36m0\u001b[0m\u001b[0;34m,\u001b[0m \u001b[0;36m1\u001b[0m\u001b[0;34m)\u001b[0m\u001b[0;34m)\u001b[0m\u001b[0;34m\u001b[0m\u001b[0;34m\u001b[0m\u001b[0m\n\u001b[0m\u001b[1;32m      3\u001b[0m \u001b[0mscaled_data\u001b[0m \u001b[0;34m=\u001b[0m \u001b[0mscaler\u001b[0m\u001b[0;34m.\u001b[0m\u001b[0mfit_transform\u001b[0m\u001b[0;34m(\u001b[0m\u001b[0mdataset\u001b[0m\u001b[0;34m)\u001b[0m\u001b[0;34m\u001b[0m\u001b[0;34m\u001b[0m\u001b[0m\n\u001b[1;32m      4\u001b[0m \u001b[0;34m\u001b[0m\u001b[0m\n\u001b[1;32m      5\u001b[0m \u001b[0mscaled_data\u001b[0m\u001b[0;34m\u001b[0m\u001b[0;34m\u001b[0m\u001b[0m\n",
            "\u001b[0;31mNameError\u001b[0m: name 'MinMaxScaler' is not defined"
          ]
        }
      ]
    },
    {
      "cell_type": "code",
      "metadata": {
        "id": "rQsDzZZBATn6",
        "colab_type": "code",
        "colab": {
          "base_uri": "https://localhost:8080/",
          "height": 277
        },
        "outputId": "63da1f07-ff0c-468a-b729-555ba6b4095f"
      },
      "source": [
        "def fizzbuzz(n):\n",
        "  for i in range(1,n+1):\n",
        "    print(i)\n",
        "\n",
        "fizzbuzz(15)"
      ],
      "execution_count": 4,
      "outputs": [
        {
          "output_type": "stream",
          "text": [
            "1\n",
            "2\n",
            "3\n",
            "4\n",
            "5\n",
            "6\n",
            "7\n",
            "8\n",
            "9\n",
            "10\n",
            "11\n",
            "12\n",
            "13\n",
            "14\n",
            "15\n"
          ],
          "name": "stdout"
        }
      ]
    },
    {
      "cell_type": "code",
      "metadata": {
        "id": "NJunmuy0RW2K",
        "colab_type": "code",
        "colab": {
          "base_uri": "https://localhost:8080/",
          "height": 260
        },
        "outputId": "d819cbf1-467c-4522-f6c6-f114edef0889"
      },
      "source": [
        "# Create a training dataset\n",
        "# Create the scaled training dataset\n",
        "train_data = scaled_data[0: training_data_len, :]\n",
        "#SPlit the data into x_train and y_train data sets\n",
        "X_train = []\n",
        "y_train = []\n",
        "\n",
        "for i in range(60, len(train_data)):\n",
        "  X_train.append(train_data[i-60:i, 0])\n",
        "  y_train.append(train_data[i, 0])\n",
        "  if i <= 60:\n",
        "    print(X_train)\n",
        "    print(y_train)\n",
        "    print()"
      ],
      "execution_count": null,
      "outputs": [
        {
          "output_type": "stream",
          "text": [
            "[array([0.00267301, 0.00248605, 0.00218793, 0.00208182, 0.00225362,\n",
            "       0.00244058, 0.00274881, 0.00275891, 0.        , 0.00192518,\n",
            "       0.00203129, 0.00200602, 0.00192518, 0.00201108, 0.00233952,\n",
            "       0.00261743, 0.00310757, 0.00330463, 0.0034259 , 0.00317326,\n",
            "       0.00343096, 0.0037695 , 0.00422427, 0.00455271, 0.00445165,\n",
            "       0.0046184 , 0.00494684, 0.00419901, 0.00439607, 0.00524497,\n",
            "       0.00546224, 0.00575532, 0.0061545 , 0.00591701, 0.00577553,\n",
            "       0.00593217, 0.00553804, 0.00547235, 0.00556836, 0.00536624,\n",
            "       0.00587153, 0.00568457, 0.00554814, 0.00521465, 0.0052197 ,\n",
            "       0.00519444, 0.00603828, 0.00668001, 0.00672043, 0.00631619,\n",
            "       0.00616966, 0.00633135, 0.00615955, 0.00614945, 0.00624545,\n",
            "       0.00586648, 0.00570479, 0.00738237, 0.00765523, 0.00760975])]\n",
            "[0.007346997152720414]\n",
            "\n"
          ],
          "name": "stdout"
        }
      ]
    },
    {
      "cell_type": "code",
      "metadata": {
        "id": "HA7xexruSnaY",
        "colab_type": "code",
        "colab": {}
      },
      "source": [
        "# Convert the X_train and y_train to numpy arrays\n",
        "X_train, y_train = np.array(X_train), np.array(y_train)"
      ],
      "execution_count": null,
      "outputs": []
    },
    {
      "cell_type": "code",
      "metadata": {
        "id": "5LoLftW3TYZe",
        "colab_type": "code",
        "colab": {
          "base_uri": "https://localhost:8080/",
          "height": 35
        },
        "outputId": "e69acfe3-cc75-45c8-ddf3-f919d474be90"
      },
      "source": [
        "# Reshape the data\n",
        "X_train = np.reshape(X_train, (X_train.shape[0], X_train.shape[1], 1))\n",
        "X_train.shape"
      ],
      "execution_count": null,
      "outputs": [
        {
          "output_type": "execute_result",
          "data": {
            "text/plain": [
              "(1679, 60, 1)"
            ]
          },
          "metadata": {
            "tags": []
          },
          "execution_count": 84
        }
      ]
    },
    {
      "cell_type": "code",
      "metadata": {
        "id": "pmvb_sF8T2sk",
        "colab_type": "code",
        "colab": {}
      },
      "source": [
        "# Build a LSTM model \n",
        "model = Sequential()\n",
        "model.add(LSTM(50, return_sequences = True, input_shape = (X_train.shape[1], 1)))\n",
        "model.add(LSTM(50, return_sequences=False))\n",
        "model.add(Dense(25))\n",
        "model.add(Dense(1))\n"
      ],
      "execution_count": null,
      "outputs": []
    },
    {
      "cell_type": "code",
      "metadata": {
        "id": "yh52tHgQUaE2",
        "colab_type": "code",
        "colab": {}
      },
      "source": [
        "# COmpile the model \n",
        "model.compile(optimizer='adam', loss= 'mean_squared_error')"
      ],
      "execution_count": null,
      "outputs": []
    },
    {
      "cell_type": "code",
      "metadata": {
        "id": "Rl1DR1pETwnC",
        "colab_type": "code",
        "colab": {
          "base_uri": "https://localhost:8080/",
          "height": 1000
        },
        "outputId": "2b045bb5-d0f6-47d3-d9d3-6722ba85ba5a"
      },
      "source": [
        "model.fit(X_train, y_train, batch_size=32, epochs=60)"
      ],
      "execution_count": null,
      "outputs": [
        {
          "output_type": "stream",
          "text": [
            "Epoch 1/60\n",
            "53/53 [==============================] - 3s 55ms/step - loss: 8.5559e-04\n",
            "Epoch 2/60\n",
            "53/53 [==============================] - 3s 59ms/step - loss: 6.5193e-05\n",
            "Epoch 3/60\n",
            "53/53 [==============================] - 3s 58ms/step - loss: 5.6780e-05\n",
            "Epoch 4/60\n",
            "53/53 [==============================] - 3s 58ms/step - loss: 5.9157e-05\n",
            "Epoch 5/60\n",
            "53/53 [==============================] - 3s 57ms/step - loss: 5.6445e-05\n",
            "Epoch 6/60\n",
            "53/53 [==============================] - 3s 57ms/step - loss: 5.4489e-05\n",
            "Epoch 7/60\n",
            "53/53 [==============================] - 3s 57ms/step - loss: 5.1338e-05\n",
            "Epoch 8/60\n",
            "53/53 [==============================] - 3s 57ms/step - loss: 5.0359e-05\n",
            "Epoch 9/60\n",
            "53/53 [==============================] - 3s 56ms/step - loss: 4.8541e-05\n",
            "Epoch 10/60\n",
            "53/53 [==============================] - 3s 56ms/step - loss: 4.3512e-05\n",
            "Epoch 11/60\n",
            "53/53 [==============================] - 3s 57ms/step - loss: 4.3332e-05\n",
            "Epoch 12/60\n",
            "53/53 [==============================] - 3s 57ms/step - loss: 4.9177e-05\n",
            "Epoch 13/60\n",
            "53/53 [==============================] - 3s 56ms/step - loss: 3.9355e-05\n",
            "Epoch 14/60\n",
            "53/53 [==============================] - 3s 56ms/step - loss: 3.9745e-05\n",
            "Epoch 15/60\n",
            "53/53 [==============================] - 3s 56ms/step - loss: 4.3517e-05\n",
            "Epoch 16/60\n",
            "53/53 [==============================] - 3s 56ms/step - loss: 3.9075e-05\n",
            "Epoch 17/60\n",
            "53/53 [==============================] - 3s 58ms/step - loss: 3.4263e-05\n",
            "Epoch 18/60\n",
            "53/53 [==============================] - 3s 66ms/step - loss: 3.3805e-05\n",
            "Epoch 19/60\n",
            "53/53 [==============================] - 4s 71ms/step - loss: 3.2565e-05\n",
            "Epoch 20/60\n",
            "53/53 [==============================] - 3s 56ms/step - loss: 3.5772e-05\n",
            "Epoch 21/60\n",
            "53/53 [==============================] - 3s 58ms/step - loss: 3.4241e-05\n",
            "Epoch 22/60\n",
            "53/53 [==============================] - 3s 58ms/step - loss: 3.2640e-05\n",
            "Epoch 23/60\n",
            "53/53 [==============================] - 3s 59ms/step - loss: 3.0452e-05\n",
            "Epoch 24/60\n",
            "53/53 [==============================] - 3s 57ms/step - loss: 2.9967e-05\n",
            "Epoch 25/60\n",
            "53/53 [==============================] - 3s 56ms/step - loss: 2.8642e-05\n",
            "Epoch 26/60\n",
            "53/53 [==============================] - 3s 57ms/step - loss: 2.8610e-05\n",
            "Epoch 27/60\n",
            "53/53 [==============================] - 3s 57ms/step - loss: 2.8136e-05\n",
            "Epoch 28/60\n",
            "53/53 [==============================] - 3s 56ms/step - loss: 2.9914e-05\n",
            "Epoch 29/60\n",
            "53/53 [==============================] - 3s 56ms/step - loss: 2.9585e-05\n",
            "Epoch 30/60\n",
            "53/53 [==============================] - 3s 57ms/step - loss: 2.8700e-05\n",
            "Epoch 31/60\n",
            "53/53 [==============================] - 3s 58ms/step - loss: 2.5013e-05\n",
            "Epoch 32/60\n",
            "53/53 [==============================] - 3s 56ms/step - loss: 2.9119e-05\n",
            "Epoch 33/60\n",
            "53/53 [==============================] - 3s 56ms/step - loss: 2.5590e-05\n",
            "Epoch 34/60\n",
            "53/53 [==============================] - 3s 56ms/step - loss: 3.2541e-05\n",
            "Epoch 35/60\n",
            "53/53 [==============================] - 3s 56ms/step - loss: 2.5159e-05\n",
            "Epoch 36/60\n",
            "53/53 [==============================] - 3s 58ms/step - loss: 2.2882e-05\n",
            "Epoch 37/60\n",
            "53/53 [==============================] - 3s 57ms/step - loss: 2.1315e-05\n",
            "Epoch 38/60\n",
            "53/53 [==============================] - 3s 57ms/step - loss: 2.2101e-05\n",
            "Epoch 39/60\n",
            "53/53 [==============================] - 3s 58ms/step - loss: 2.5217e-05\n",
            "Epoch 40/60\n",
            "53/53 [==============================] - 3s 57ms/step - loss: 2.0294e-05\n",
            "Epoch 41/60\n",
            "53/53 [==============================] - 3s 57ms/step - loss: 2.2414e-05\n",
            "Epoch 42/60\n",
            "53/53 [==============================] - 3s 57ms/step - loss: 2.3024e-05\n",
            "Epoch 43/60\n",
            "53/53 [==============================] - 3s 59ms/step - loss: 2.7200e-05\n",
            "Epoch 44/60\n",
            "53/53 [==============================] - 3s 64ms/step - loss: 2.2764e-05\n",
            "Epoch 45/60\n",
            "53/53 [==============================] - 3s 63ms/step - loss: 2.2616e-05\n",
            "Epoch 46/60\n",
            "53/53 [==============================] - 3s 61ms/step - loss: 2.1757e-05\n",
            "Epoch 47/60\n",
            "53/53 [==============================] - 3s 62ms/step - loss: 2.7161e-05\n",
            "Epoch 48/60\n",
            "53/53 [==============================] - 3s 64ms/step - loss: 2.1876e-05\n",
            "Epoch 49/60\n",
            "53/53 [==============================] - 3s 63ms/step - loss: 2.3558e-05\n",
            "Epoch 50/60\n",
            "53/53 [==============================] - 3s 61ms/step - loss: 2.0008e-05\n",
            "Epoch 51/60\n",
            "53/53 [==============================] - 3s 55ms/step - loss: 2.0211e-05\n",
            "Epoch 52/60\n",
            "53/53 [==============================] - 3s 56ms/step - loss: 2.0285e-05\n",
            "Epoch 53/60\n",
            "53/53 [==============================] - 3s 56ms/step - loss: 1.9861e-05\n",
            "Epoch 54/60\n",
            "53/53 [==============================] - 3s 57ms/step - loss: 2.0771e-05\n",
            "Epoch 55/60\n",
            "53/53 [==============================] - 3s 55ms/step - loss: 1.8639e-05\n",
            "Epoch 56/60\n",
            "53/53 [==============================] - 3s 56ms/step - loss: 1.7731e-05\n",
            "Epoch 57/60\n",
            "53/53 [==============================] - 3s 56ms/step - loss: 1.7627e-05\n",
            "Epoch 58/60\n",
            "53/53 [==============================] - 3s 57ms/step - loss: 1.7045e-05\n",
            "Epoch 59/60\n",
            "53/53 [==============================] - 3s 56ms/step - loss: 1.7294e-05\n",
            "Epoch 60/60\n",
            "53/53 [==============================] - 3s 57ms/step - loss: 1.6559e-05\n"
          ],
          "name": "stdout"
        },
        {
          "output_type": "execute_result",
          "data": {
            "text/plain": [
              "<tensorflow.python.keras.callbacks.History at 0x7fa7576fed68>"
            ]
          },
          "metadata": {
            "tags": []
          },
          "execution_count": 87
        }
      ]
    },
    {
      "cell_type": "code",
      "metadata": {
        "id": "5nnAgQ_STf7C",
        "colab_type": "code",
        "colab": {}
      },
      "source": [
        "# Create the testing dataset\n",
        "# Create a new array containing Scaled from index 1680 to the len\n",
        "test_data = scaled_data[training_data_len - 60:, :]\n",
        "# Create the data set X_test and y_test\n",
        "X_test = []\n",
        "y_test = dataset[training_data_len:, :]\n",
        "\n",
        "for i in range(60, len(test_data)):\n",
        "  X_test.append(test_data[i - 60:i, 0])\n",
        "  "
      ],
      "execution_count": null,
      "outputs": []
    },
    {
      "cell_type": "code",
      "metadata": {
        "id": "8JYV_DmQPMSX",
        "colab_type": "code",
        "colab": {}
      },
      "source": [
        "# COnvert the data into a numpy array\n",
        "X_test = np.array(X_test)\n"
      ],
      "execution_count": null,
      "outputs": []
    },
    {
      "cell_type": "code",
      "metadata": {
        "id": "9xx-hzt6V8td",
        "colab_type": "code",
        "colab": {}
      },
      "source": [
        "# Reshape the data\n",
        "X_test = np.reshape(X_test, (X_test.shape[0], X_test.shape[1], 1))\n"
      ],
      "execution_count": null,
      "outputs": []
    },
    {
      "cell_type": "code",
      "metadata": {
        "id": "oV63wIw8WJJS",
        "colab_type": "code",
        "colab": {}
      },
      "source": [
        "# Get the models predicted price values\n",
        "predictions = model.predict(X_test)\n",
        "predictions = scaler.inverse_transform(predictions)\n"
      ],
      "execution_count": null,
      "outputs": []
    },
    {
      "cell_type": "code",
      "metadata": {
        "id": "r-hTyY4MWRG0",
        "colab_type": "code",
        "colab": {
          "base_uri": "https://localhost:8080/",
          "height": 35
        },
        "outputId": "f5c7ab15-8174-496a-cea0-927efd6023cb"
      },
      "source": [
        "# Get the root mean squared error(RMSE)\n",
        "rmse = np.sqrt( np.mean( predictions - y_test) ** 2)\n",
        "rmse"
      ],
      "execution_count": null,
      "outputs": [
        {
          "output_type": "execute_result",
          "data": {
            "text/plain": [
              "9.230569549419913"
            ]
          },
          "metadata": {
            "tags": []
          },
          "execution_count": 92
        }
      ]
    },
    {
      "cell_type": "code",
      "metadata": {
        "id": "JumQcCmQWwv0",
        "colab_type": "code",
        "colab": {
          "base_uri": "https://localhost:8080/",
          "height": 604
        },
        "outputId": "ab420be2-debb-4805-e7b5-f6a220c984b8"
      },
      "source": [
        "# Plot the data \n",
        "train = data[:training_data_len]\n",
        "valid = data[training_data_len:]\n",
        "valid['Predictions'] = predictions \n",
        "\n",
        "# Visualize the data\n",
        "plt.figure(figsize=(16,7))\n",
        "plt.title('Model')\n",
        "plt.xlabel('Date', fontsize=18)\n",
        "plt.ylabel('Close Price USD ($)', fontsize=18)\n",
        "plt.plot(train['Close'])\n",
        "plt.plot(valid[['Close', 'Predictions']])\n",
        "plt.legend(['Train', 'Valid', 'Predictions'] , loc = 'lower right')\n",
        "plt.show()\n"
      ],
      "execution_count": null,
      "outputs": [
        {
          "output_type": "stream",
          "text": [
            "/usr/local/lib/python3.6/dist-packages/ipykernel_launcher.py:4: SettingWithCopyWarning: \n",
            "A value is trying to be set on a copy of a slice from a DataFrame.\n",
            "Try using .loc[row_indexer,col_indexer] = value instead\n",
            "\n",
            "See the caveats in the documentation: https://pandas.pydata.org/pandas-docs/stable/user_guide/indexing.html#returning-a-view-versus-a-copy\n",
            "  after removing the cwd from sys.path.\n"
          ],
          "name": "stderr"
        },
        {
          "output_type": "display_data",
          "data": {
            "image/png": "[encoded data removed]",
            "text/plain": [
              "<Figure size 1152x504 with 1 Axes>"
            ]
          },
          "metadata": {
            "tags": []
          }
        }
      ]
    },
    {
      "cell_type": "code",
      "metadata": {
        "id": "ZneSJXoJX4BJ",
        "colab_type": "code",
        "colab": {
          "base_uri": "https://localhost:8080/",
          "height": 446
        },
        "outputId": "3ca8af1e-fac2-4505-a780-6c88318bbff7"
      },
      "source": [
        "# Show the valid and predicted prices\n",
        "valid "
      ],
      "execution_count": null,
      "outputs": [
        {
          "output_type": "execute_result",
          "data": {
            "text/html": [
              "<div>\n",
              "<style scoped>\n",
              "    .dataframe tbody tr th:only-of-type {\n",
              "        vertical-align: middle;\n",
              "    }\n",
              "\n",
              "    .dataframe tbody tr th {\n",
              "        vertical-align: top;\n",
              "    }\n",
              "\n",
              "    .dataframe thead th {\n",
              "        text-align: right;\n",
              "    }\n",
              "</style>\n",
              "<table border=\"1\" class=\"dataframe\">\n",
              "  <thead>\n",
              "    <tr style=\"text-align: right;\">\n",
              "      <th></th>\n",
              "      <th>Close</th>\n",
              "      <th>Predictions</th>\n",
              "    </tr>\n",
              "    <tr>\n",
              "      <th>Date</th>\n",
              "      <th></th>\n",
              "      <th></th>\n",
              "    </tr>\n",
              "  </thead>\n",
              "  <tbody>\n",
              "    <tr>\n",
              "      <th>2018-11-29</th>\n",
              "      <td>341.170013</td>\n",
              "      <td>351.207062</td>\n",
              "    </tr>\n",
              "    <tr>\n",
              "      <th>2018-11-30</th>\n",
              "      <td>350.480011</td>\n",
              "      <td>351.231262</td>\n",
              "    </tr>\n",
              "    <tr>\n",
              "      <th>2018-12-03</th>\n",
              "      <td>358.489990</td>\n",
              "      <td>354.327942</td>\n",
              "    </tr>\n",
              "    <tr>\n",
              "      <th>2018-12-04</th>\n",
              "      <td>359.700012</td>\n",
              "      <td>360.487976</td>\n",
              "    </tr>\n",
              "    <tr>\n",
              "      <th>2018-12-06</th>\n",
              "      <td>363.059998</td>\n",
              "      <td>365.242218</td>\n",
              "    </tr>\n",
              "    <tr>\n",
              "      <th>...</th>\n",
              "      <td>...</td>\n",
              "      <td>...</td>\n",
              "    </tr>\n",
              "    <tr>\n",
              "      <th>2020-08-14</th>\n",
              "      <td>1650.709961</td>\n",
              "      <td>1495.340210</td>\n",
              "    </tr>\n",
              "    <tr>\n",
              "      <th>2020-08-17</th>\n",
              "      <td>1835.640015</td>\n",
              "      <td>1568.993774</td>\n",
              "    </tr>\n",
              "    <tr>\n",
              "      <th>2020-08-18</th>\n",
              "      <td>1887.089966</td>\n",
              "      <td>1700.554077</td>\n",
              "    </tr>\n",
              "    <tr>\n",
              "      <th>2020-08-19</th>\n",
              "      <td>1878.530029</td>\n",
              "      <td>1795.471558</td>\n",
              "    </tr>\n",
              "    <tr>\n",
              "      <th>2020-08-20</th>\n",
              "      <td>2001.829956</td>\n",
              "      <td>1814.680786</td>\n",
              "    </tr>\n",
              "  </tbody>\n",
              "</table>\n",
              "<p>434 rows × 2 columns</p>\n",
              "</div>"
            ],
            "text/plain": [
              "                  Close  Predictions\n",
              "Date                                \n",
              "2018-11-29   341.170013   351.207062\n",
              "2018-11-30   350.480011   351.231262\n",
              "2018-12-03   358.489990   354.327942\n",
              "2018-12-04   359.700012   360.487976\n",
              "2018-12-06   363.059998   365.242218\n",
              "...                 ...          ...\n",
              "2020-08-14  1650.709961  1495.340210\n",
              "2020-08-17  1835.640015  1568.993774\n",
              "2020-08-18  1887.089966  1700.554077\n",
              "2020-08-19  1878.530029  1795.471558\n",
              "2020-08-20  2001.829956  1814.680786\n",
              "\n",
              "[434 rows x 2 columns]"
            ]
          },
          "metadata": {
            "tags": []
          },
          "execution_count": 94
        }
      ]
    },
    {
      "cell_type": "code",
      "metadata": {
        "id": "P76RVjLzWTQ_",
        "colab_type": "code",
        "colab": {
          "base_uri": "https://localhost:8080/",
          "height": 35
        },
        "outputId": "066d65f8-e6a8-4ef9-a9dd-e7f9255ae8ba"
      },
      "source": [
        "# Get the quote \n",
        "apple_quote = web.DataReader('AAPL', data_source = 'yahoo', start= '2012-01-01', end='2020-08-24')\n",
        "# Create the new dataframe\n",
        "new_df = apple_quote.filter(['Close'])\n",
        "# Get the last 60 day closing price values and convert the dataframe to an array\n",
        "last_60_days = new_df[-60:].values\n",
        "#Scale the data to be value s between 0 and 1\n",
        "last_60_days_scaled = scaler.transform(last_60_days)\n",
        "# Create an empty list \n",
        "X_test = []\n",
        "# Append the past 60 days \n",
        "X_test.append(last_60_days_scaled)\n",
        "# Convert the X_test data set to a numpy array\n",
        "X_test = np.array(X_test)\n",
        "# Reshape the data \n",
        "X_test = np.reshape(X_test, (X_test.shape[0], X_test.shape[1], 1))\n",
        "# Get the predicted scaled price\n",
        "pred_price = model.predict(X_test)\n",
        "# Undo the scaling \n",
        "pred_price = scaler.inverse_transform(pred_price)\n",
        "print(pred_price)"
      ],
      "execution_count": null,
      "outputs": [
        {
          "output_type": "stream",
          "text": [
            "[[485.97955]]\n"
          ],
          "name": "stdout"
        }
      ]
    },
    {
      "cell_type": "code",
      "metadata": {
        "id": "0mzdmRD3aaTA",
        "colab_type": "code",
        "colab": {
          "base_uri": "https://localhost:8080/",
          "height": 141
        },
        "outputId": "b8f4e1da-055f-45df-d63f-ccb8f422b736"
      },
      "source": [
        "apple_quote2 = web.DataReader('AAPL', data_source = 'yahoo', start= '2020-08-21', end='2020-08-24')\n",
        "apple_quote2"
      ],
      "execution_count": null,
      "outputs": [
        {
          "output_type": "execute_result",
          "data": {
            "text/html": [
              "<div>\n",
              "<style scoped>\n",
              "    .dataframe tbody tr th:only-of-type {\n",
              "        vertical-align: middle;\n",
              "    }\n",
              "\n",
              "    .dataframe tbody tr th {\n",
              "        vertical-align: top;\n",
              "    }\n",
              "\n",
              "    .dataframe thead th {\n",
              "        text-align: right;\n",
              "    }\n",
              "</style>\n",
              "<table border=\"1\" class=\"dataframe\">\n",
              "  <thead>\n",
              "    <tr style=\"text-align: right;\">\n",
              "      <th></th>\n",
              "      <th>High</th>\n",
              "      <th>Low</th>\n",
              "      <th>Open</th>\n",
              "      <th>Close</th>\n",
              "      <th>Volume</th>\n",
              "      <th>Adj Close</th>\n",
              "    </tr>\n",
              "    <tr>\n",
              "      <th>Date</th>\n",
              "      <th></th>\n",
              "      <th></th>\n",
              "      <th></th>\n",
              "      <th></th>\n",
              "      <th></th>\n",
              "      <th></th>\n",
              "    </tr>\n",
              "  </thead>\n",
              "  <tbody>\n",
              "    <tr>\n",
              "      <th>2020-08-21</th>\n",
              "      <td>499.471985</td>\n",
              "      <td>477</td>\n",
              "      <td>477.049988</td>\n",
              "      <td>497.480011</td>\n",
              "      <td>84513660</td>\n",
              "      <td>497.480011</td>\n",
              "    </tr>\n",
              "    <tr>\n",
              "      <th>2020-08-21</th>\n",
              "      <td>499.470001</td>\n",
              "      <td>477</td>\n",
              "      <td>477.049988</td>\n",
              "      <td>497.480011</td>\n",
              "      <td>84299500</td>\n",
              "      <td>497.480011</td>\n",
              "    </tr>\n",
              "  </tbody>\n",
              "</table>\n",
              "</div>"
            ],
            "text/plain": [
              "                  High  Low        Open       Close    Volume   Adj Close\n",
              "Date                                                                     \n",
              "2020-08-21  499.471985  477  477.049988  497.480011  84513660  497.480011\n",
              "2020-08-21  499.470001  477  477.049988  497.480011  84299500  497.480011"
            ]
          },
          "metadata": {
            "tags": []
          },
          "execution_count": 96
        }
      ]
    }
  ]
}